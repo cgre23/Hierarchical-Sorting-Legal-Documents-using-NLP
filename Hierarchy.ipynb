{
 "cells": [
  {
   "cell_type": "markdown",
   "id": "7c117116-a8e0-4642-8852-92b99f4cad5c",
   "metadata": {},
   "source": [
    "## Hierarchical Classification NLP task\n",
    "### by Christian Grech"
   ]
  },
  {
   "cell_type": "markdown",
   "id": "d704c4c3-e775-492f-8b87-e0017c2a8934",
   "metadata": {},
   "source": [
    "## 1. Import packages and data"
   ]
  },
  {
   "cell_type": "code",
   "execution_count": 1,
   "id": "f759dc5c-f245-40c9-b649-a910e09b4658",
   "metadata": {},
   "outputs": [],
   "source": [
    "import json\n",
    "from collections import defaultdict\n",
    "import numpy as np\n",
    "import pandas as pd\n",
    "from sklearn.model_selection import train_test_split\n",
    "from xgboost import XGBClassifier\n",
    "from sklearn.feature_extraction.text import CountVectorizer, TfidfTransformer, TfidfVectorizer\n",
    "from sklearn.compose import ColumnTransformer\n",
    "from sklearn.metrics import accuracy_score, confusion_matrix, ConfusionMatrixDisplay, balanced_accuracy_score\n",
    "from sklearn.ensemble import AdaBoostClassifier, RandomForestClassifier\n",
    "from sklearn.gaussian_process import GaussianProcessClassifier\n",
    "from sklearn.gaussian_process.kernels import RBF\n",
    "from sklearn.model_selection import train_test_split\n",
    "from sklearn.naive_bayes import GaussianNB\n",
    "from sklearn.neighbors import KNeighborsClassifier\n",
    "from sklearn.neural_network import MLPClassifier\n",
    "from sklearn.pipeline import make_pipeline\n",
    "from sklearn.tree import DecisionTreeClassifier\n",
    "pd.set_option('display.max_rows', 800)"
   ]
  },
  {
   "cell_type": "code",
   "execution_count": 2,
   "id": "06e9203e-3a8e-4b61-b8eb-c98ca0d0e9ce",
   "metadata": {},
   "outputs": [],
   "source": [
    "# Import the two datasets\n",
    "df = pd.read_json('data.json')\n",
    "test_df = pd.read_json('test_data.json')"
   ]
  },
  {
   "cell_type": "markdown",
   "id": "2448fabf-eebc-4dee-ade3-73d18d3eacae",
   "metadata": {},
   "source": [
    "## 2. Feature extraction: defining hierarchy levels"
   ]
  },
  {
   "cell_type": "code",
   "execution_count": 3,
   "id": "cff39c28-828c-4942-b668-3d441ddec304",
   "metadata": {},
   "outputs": [
    {
     "data": {
      "text/html": [
       "<div>\n",
       "<style scoped>\n",
       "    .dataframe tbody tr th:only-of-type {\n",
       "        vertical-align: middle;\n",
       "    }\n",
       "\n",
       "    .dataframe tbody tr th {\n",
       "        vertical-align: top;\n",
       "    }\n",
       "\n",
       "    .dataframe thead th {\n",
       "        text-align: right;\n",
       "    }\n",
       "</style>\n",
       "<table border=\"1\" class=\"dataframe\">\n",
       "  <thead>\n",
       "    <tr style=\"text-align: right;\">\n",
       "      <th></th>\n",
       "      <th>id</th>\n",
       "      <th>parent_id</th>\n",
       "      <th>html</th>\n",
       "      <th>short_html</th>\n",
       "      <th>hierarchical_level</th>\n",
       "    </tr>\n",
       "  </thead>\n",
       "  <tbody>\n",
       "    <tr>\n",
       "      <th>0</th>\n",
       "      <td>64da21ed3f42347f0fc701aa</td>\n",
       "      <td>None</td>\n",
       "      <td>&lt;div&gt;&lt;p&gt;&lt;strong&gt;&amp;#167; 12.1 Cooperation with c...</td>\n",
       "      <td>&lt;div&gt;&lt;p&gt;&lt;strong&gt;&amp;#167; 12</td>\n",
       "      <td>0</td>\n",
       "    </tr>\n",
       "    <tr>\n",
       "      <th>1</th>\n",
       "      <td>64da21ed3f42347f0fc701ab</td>\n",
       "      <td>64da21ed3f42347f0fc701aa</td>\n",
       "      <td>&lt;p&gt;(a) &lt;em&gt;Federal Food, Drug, and Cosmetic Ac...</td>\n",
       "      <td>&lt;p&gt;(a) &lt;em&gt;Federal Food,</td>\n",
       "      <td>1</td>\n",
       "    </tr>\n",
       "    <tr>\n",
       "      <th>2</th>\n",
       "      <td>64da21ed3f42347f0fc701ac</td>\n",
       "      <td>64da21ed3f42347f0fc701aa</td>\n",
       "      <td>&lt;p&gt;(b) &lt;em&gt;Federal Insecticide, Fungicide, and...</td>\n",
       "      <td>&lt;p&gt;(b) &lt;em&gt;Federal Insect</td>\n",
       "      <td>1</td>\n",
       "    </tr>\n",
       "    <tr>\n",
       "      <th>3</th>\n",
       "      <td>64da21ed3f42347f0fc701ad</td>\n",
       "      <td>64da21ed3f42347f0fc701aa</td>\n",
       "      <td>&lt;p&gt;(c) &lt;em&gt;Federal Hazardous Substances Act.&lt;/...</td>\n",
       "      <td>&lt;p&gt;(c) &lt;em&gt;Federal Hazard</td>\n",
       "      <td>1</td>\n",
       "    </tr>\n",
       "    <tr>\n",
       "      <th>4</th>\n",
       "      <td>64da21ed3f42347f0fc701ae</td>\n",
       "      <td>None</td>\n",
       "      <td>&lt;div&gt;&lt;p&gt;&lt;strong&gt;&amp;#167; 12.3 Release under bond...</td>\n",
       "      <td>&lt;div&gt;&lt;p&gt;&lt;strong&gt;&amp;#167; 12</td>\n",
       "      <td>0</td>\n",
       "    </tr>\n",
       "    <tr>\n",
       "      <th>5</th>\n",
       "      <td>64da21ed3f42347f0fc701af</td>\n",
       "      <td>64da21ed3f42347f0fc701ae</td>\n",
       "      <td>&lt;p&gt;(a) &lt;em&gt;Release.&lt;/em&gt; No food, drug, device...</td>\n",
       "      <td>&lt;p&gt;(a) &lt;em&gt;Release.&lt;/em&gt;</td>\n",
       "      <td>1</td>\n",
       "    </tr>\n",
       "    <tr>\n",
       "      <th>6</th>\n",
       "      <td>64da21ed3f42347f0fc701b0</td>\n",
       "      <td>64da21ed3f42347f0fc701ae</td>\n",
       "      <td>&lt;p&gt;(b) &lt;em&gt;Bond amount.&lt;/em&gt; The bond referred...</td>\n",
       "      <td>&lt;p&gt;(b) &lt;em&gt;Bond amount.&lt;/</td>\n",
       "      <td>1</td>\n",
       "    </tr>\n",
       "    <tr>\n",
       "      <th>7</th>\n",
       "      <td>64da21ed3f42347f0fc701b1</td>\n",
       "      <td>64da21ed3f42347f0fc701b0</td>\n",
       "      <td>&lt;p&gt;(1) Equal to the domestic value (see § 162....</td>\n",
       "      <td>&lt;p&gt;(1) Equal to the domes</td>\n",
       "      <td>2</td>\n",
       "    </tr>\n",
       "    <tr>\n",
       "      <th>8</th>\n",
       "      <td>64da21ed3f42347f0fc701b2</td>\n",
       "      <td>64da21ed3f42347f0fc701b0</td>\n",
       "      <td>&lt;p&gt;(2) Equal to three times the value of the m...</td>\n",
       "      <td>&lt;p&gt;(2) Equal to three tim</td>\n",
       "      <td>2</td>\n",
       "    </tr>\n",
       "    <tr>\n",
       "      <th>9</th>\n",
       "      <td>64da21ed3f42347f0fc701b3</td>\n",
       "      <td>64da21ed3f42347f0fc701ae</td>\n",
       "      <td>&lt;p&gt;(c) &lt;em&gt;Liquidated damages.&lt;/em&gt; Whenever l...</td>\n",
       "      <td>&lt;p&gt;(c) &lt;em&gt;Liquidated dam</td>\n",
       "      <td>1</td>\n",
       "    </tr>\n",
       "  </tbody>\n",
       "</table>\n",
       "</div>"
      ],
      "text/plain": [
       "                         id                 parent_id  \\\n",
       "0  64da21ed3f42347f0fc701aa                      None   \n",
       "1  64da21ed3f42347f0fc701ab  64da21ed3f42347f0fc701aa   \n",
       "2  64da21ed3f42347f0fc701ac  64da21ed3f42347f0fc701aa   \n",
       "3  64da21ed3f42347f0fc701ad  64da21ed3f42347f0fc701aa   \n",
       "4  64da21ed3f42347f0fc701ae                      None   \n",
       "5  64da21ed3f42347f0fc701af  64da21ed3f42347f0fc701ae   \n",
       "6  64da21ed3f42347f0fc701b0  64da21ed3f42347f0fc701ae   \n",
       "7  64da21ed3f42347f0fc701b1  64da21ed3f42347f0fc701b0   \n",
       "8  64da21ed3f42347f0fc701b2  64da21ed3f42347f0fc701b0   \n",
       "9  64da21ed3f42347f0fc701b3  64da21ed3f42347f0fc701ae   \n",
       "\n",
       "                                                html  \\\n",
       "0  <div><p><strong>&#167; 12.1 Cooperation with c...   \n",
       "1  <p>(a) <em>Federal Food, Drug, and Cosmetic Ac...   \n",
       "2  <p>(b) <em>Federal Insecticide, Fungicide, and...   \n",
       "3  <p>(c) <em>Federal Hazardous Substances Act.</...   \n",
       "4  <div><p><strong>&#167; 12.3 Release under bond...   \n",
       "5  <p>(a) <em>Release.</em> No food, drug, device...   \n",
       "6  <p>(b) <em>Bond amount.</em> The bond referred...   \n",
       "7  <p>(1) Equal to the domestic value (see § 162....   \n",
       "8  <p>(2) Equal to three times the value of the m...   \n",
       "9  <p>(c) <em>Liquidated damages.</em> Whenever l...   \n",
       "\n",
       "                  short_html  hierarchical_level  \n",
       "0  <div><p><strong>&#167; 12                   0  \n",
       "1  <p>(a) <em>Federal Food,                    1  \n",
       "2  <p>(b) <em>Federal Insect                   1  \n",
       "3  <p>(c) <em>Federal Hazard                   1  \n",
       "4  <div><p><strong>&#167; 12                   0  \n",
       "5  <p>(a) <em>Release.</em>                    1  \n",
       "6  <p>(b) <em>Bond amount.</                   1  \n",
       "7  <p>(1) Equal to the domes                   2  \n",
       "8  <p>(2) Equal to three tim                   2  \n",
       "9  <p>(c) <em>Liquidated dam                   1  "
      ]
     },
     "execution_count": 3,
     "metadata": {},
     "output_type": "execute_result"
    }
   ],
   "source": [
    "df['short_html'] = df['html'].str.slice(0, 25)# Slice the html code as we are only interested in the HTML tags\n",
    "\n",
    "# Create a dictionary to store the hierarchical level for each paragraph\n",
    "hierarchical_levels = {}\n",
    "\n",
    "# Initialize the hierarchical level for the root paragraphs\n",
    "for i, row in df.iterrows():\n",
    "    if row['parent_id'] is None:\n",
    "        hierarchical_levels[row['id']] = 0\n",
    "\n",
    "# Recursively update the hierarchical level for child paragraphs (Source: Bard)\n",
    "def update_hierarchical_levels(paragraph_id):\n",
    "    if paragraph_id not in hierarchical_levels:\n",
    "        parent_id = df[df['id'] == paragraph_id]['parent_id'].values[0]\n",
    "        hierarchical_level = hierarchical_levels[parent_id] + 1\n",
    "        hierarchical_levels[paragraph_id] = hierarchical_level\n",
    "        update_hierarchical_levels(parent_id)\n",
    "\n",
    "for i, row in df.iterrows():\n",
    "    if row['parent_id'] is not None:\n",
    "        update_hierarchical_levels(row['id'])\n",
    "\n",
    "# Add the hierarchical level to the DataFrame\n",
    "df['hierarchical_level'] = df['id'].apply(lambda id: hierarchical_levels[id])\n",
    "\n",
    "df.head(10) # Show the first 10 entries"
   ]
  },
  {
   "cell_type": "markdown",
   "id": "e5285700-9c31-4812-a51d-2d9c375ba481",
   "metadata": {},
   "source": [
    "## 3. Testing the Vectorizer\n",
    "\n",
    "Making sure that the vectorizer is able to detect HTML tags and converting these to numerical values. One example is taken here."
   ]
  },
  {
   "cell_type": "code",
   "execution_count": 4,
   "id": "f44539ce-ddda-4da3-81d0-7a396b3bdffa",
   "metadata": {},
   "outputs": [
    {
     "name": "stdout",
     "output_type": "stream",
     "text": [
      "Extracted Vocabulary:  {'<p>': 3, '(<em>3': 0, '</em>': 2, ') The ': 1}\n",
      "Vector Shape:  (1, 4)\n"
     ]
    }
   ],
   "source": [
    "text = [(df['short_html'].tolist()[727])]\n",
    "# create the transform\n",
    "vectorizer = CountVectorizer(analyzer='word', lowercase=False, token_pattern=r'\\W+[A-Za-z\\d]*\\W\\d?')\n",
    "# tokenize and build vocab\n",
    "vectorizer.fit(text)\n",
    "# summarize\n",
    "print('Extracted Vocabulary: ', vectorizer.vocabulary_)\n",
    "# encode document\n",
    "vector = vectorizer.transform(text)\n",
    "# summarize encoded vector\n",
    "print('Vector Shape: ', vector.shape)"
   ]
  },
  {
   "cell_type": "markdown",
   "id": "11453329-1991-4c96-acbb-c4a82326b70d",
   "metadata": {},
   "source": [
    "## 4. Training and testing various classifiers\n"
   ]
  },
  {
   "cell_type": "markdown",
   "id": "9d594562-2c20-4920-89a4-198b05b1d34a",
   "metadata": {},
   "source": [
    "Data is first transformed, split and various classifiers are tested. The XGBoost Classifier was found to be the best-performing and so a confusion matrix is plotted here with the results."
   ]
  },
  {
   "cell_type": "code",
   "execution_count": 5,
   "id": "cd6f299f-d820-41b7-9c0d-b3cf450a61a6",
   "metadata": {},
   "outputs": [],
   "source": [
    "\n",
    "# Define a Column Transformer to vectorize all html text\n",
    "column_trans = ColumnTransformer([\n",
    "    ('tfidf', CountVectorizer(analyzer='word', lowercase=False, token_pattern=r'\\W+[A-Za-z\\d]*\\W\\d?'), 'short_html') \n",
    "])\n",
    "\n",
    "X = column_trans.fit_transform(df)\n",
    "X_data = X.toarray()\n",
    "y_data = df.loc[:, \"hierarchical_level\"].values\n",
    "\n",
    "# Split training data into training and validation sets\n",
    "X_train, X_val, y_train, y_val = train_test_split(X_data, y_data, test_size=0.2, random_state = 21, shuffle=True)\n",
    "\n"
   ]
  },
  {
   "cell_type": "code",
   "execution_count": 6,
   "id": "dd41e03b-fc2b-4de0-8980-1d901add80a2",
   "metadata": {},
   "outputs": [
    {
     "name": "stdout",
     "output_type": "stream",
     "text": [
      "Nearest Neighbors      Accuracy:  0.9      Balanced Accuracy:  0.68\n",
      "Gaussian Process      Accuracy:  0.93      Balanced Accuracy:  0.65\n",
      "Decision Tree      Accuracy:  0.88      Balanced Accuracy:  0.61\n",
      "Random Forest      Accuracy:  0.53      Balanced Accuracy:  0.29\n",
      "Neural Net      Accuracy:  0.95      Balanced Accuracy:  0.72\n",
      "AdaBoost      Accuracy:  0.45      Balanced Accuracy:  0.23\n",
      "Naive Bayes      Accuracy:  0.85      Balanced Accuracy:  0.84\n",
      "XGBoost      Accuracy:  0.96      Balanced Accuracy:  0.85\n"
     ]
    }
   ],
   "source": [
    "# Try several model examples to compare performance\n",
    "\n",
    "names = [\n",
    "    \"Nearest Neighbors\",\n",
    "    \"Gaussian Process\",\n",
    "    \"Decision Tree\",\n",
    "    \"Random Forest\",\n",
    "    \"Neural Net\",\n",
    "    \"AdaBoost\",\n",
    "    \"Naive Bayes\",\n",
    "    \"XGBoost\",\n",
    "]\n",
    "\n",
    "classifiers = [\n",
    "    KNeighborsClassifier(10),\n",
    "    GaussianProcessClassifier(1.0 * RBF(1.0), random_state=42),\n",
    "    DecisionTreeClassifier(max_depth=8, random_state=42),\n",
    "    RandomForestClassifier(max_depth=8, n_estimators=100, max_features=1, random_state=42),\n",
    "    MLPClassifier(alpha=1, max_iter=1000, random_state=42),\n",
    "    AdaBoostClassifier(random_state=42),\n",
    "    GaussianNB(),\n",
    "    XGBClassifier(learning_rate =0.1,n_estimators=100,max_depth=5,gamma=0,seed=27)\n",
    "]\n",
    "\n",
    "\n",
    "for name, clf in zip(names, classifiers):\n",
    "    clf.fit(X_train, y_train)\n",
    "    #score = clf.score(X_val, y_val)\n",
    "    y_pred = clf.predict(X_val)\n",
    "    balanced_accuracy = balanced_accuracy_score(y_val, y_pred)\n",
    "    accuracy = accuracy_score(y_val, y_pred)\n",
    "    print(name, '     Accuracy: ',  np.round(accuracy, 2), '     Balanced Accuracy: ', np.round(balanced_accuracy,2))"
   ]
  },
  {
   "cell_type": "code",
   "execution_count": 7,
   "id": "d3e32cda-8abd-4cde-8895-8e8613ee04b0",
   "metadata": {},
   "outputs": [
    {
     "name": "stdout",
     "output_type": "stream",
     "text": [
      "Accuracy: 0.9363057324840764\n"
     ]
    },
    {
     "data": {
      "image/png": "[encoded data removed]",
      "text/plain": [
       "<Figure size 640x480 with 2 Axes>"
      ]
     },
     "metadata": {},
     "output_type": "display_data"
    }
   ],
   "source": [
    "# The XGB model was chosen after the performance tests \n",
    "model = XGBClassifier(\n",
    " learning_rate =0.02,n_estimators=100,max_depth=5, gamma=0,seed=27)\n",
    "model.fit(X_train, y_train)\n",
    "y_pred = model.predict(X_val)\n",
    "accuracy = accuracy_score(y_val, y_pred)\n",
    "print('Accuracy:', accuracy)\n",
    "\n",
    "cm = confusion_matrix(y_val, y_pred)\n",
    "\n",
    "cm_display = ConfusionMatrixDisplay(cm).plot()"
   ]
  },
  {
   "cell_type": "markdown",
   "id": "3fde01ee-885e-4997-8b4f-705f1c23be01",
   "metadata": {},
   "source": [
    "### 5. Training one model with the full training data"
   ]
  },
  {
   "cell_type": "markdown",
   "id": "59a88325-99d6-4586-8b81-4e9e9f5d1c2a",
   "metadata": {},
   "source": [
    "To ensure the best model, the XGBClassifier is trained with the whole training dataset, and then used with the test data."
   ]
  },
  {
   "cell_type": "code",
   "execution_count": 8,
   "id": "12c30a47-f6bb-4ab5-8c9b-d0fd87b30270",
   "metadata": {},
   "outputs": [],
   "source": [
    "test_df['short_html'] = test_df['html'].str.slice(0, 25)# Slice the html code as we are only interested in the HTML tags\n",
    "# Add the hierarchical level to the DataFrame\n",
    "X_test = column_trans.transform(test_df)\n",
    "X_test_data = X_test.toarray()"
   ]
  },
  {
   "cell_type": "code",
   "execution_count": 9,
   "id": "cd65202f-a6ff-4eea-a524-459f49b82c1d",
   "metadata": {},
   "outputs": [],
   "source": [
    "test_model = XGBClassifier(learning_rate =0.1,n_estimators=100,max_depth=5,gamma=0,seed=27)\n",
    "test_model.fit(X_data, y_data) # Fitting the model to the whole training dataset\n",
    "y_pred = test_model.predict(X_test_data)\n"
   ]
  },
  {
   "cell_type": "code",
   "execution_count": 10,
   "id": "045196c2-8bf6-40b3-9697-bdc629bb6584",
   "metadata": {},
   "outputs": [
    {
     "data": {
      "text/html": [
       "<div>\n",
       "<style scoped>\n",
       "    .dataframe tbody tr th:only-of-type {\n",
       "        vertical-align: middle;\n",
       "    }\n",
       "\n",
       "    .dataframe tbody tr th {\n",
       "        vertical-align: top;\n",
       "    }\n",
       "\n",
       "    .dataframe thead th {\n",
       "        text-align: right;\n",
       "    }\n",
       "</style>\n",
       "<table border=\"1\" class=\"dataframe\">\n",
       "  <thead>\n",
       "    <tr style=\"text-align: right;\">\n",
       "      <th></th>\n",
       "      <th>id</th>\n",
       "      <th>html</th>\n",
       "      <th>short_html</th>\n",
       "      <th>level</th>\n",
       "    </tr>\n",
       "  </thead>\n",
       "  <tbody>\n",
       "    <tr>\n",
       "      <th>0</th>\n",
       "      <td>64c5120bcce38659fc9e4bb1</td>\n",
       "      <td>&lt;div&gt;&lt;p&gt;&lt;strong&gt;&amp;#167; 259.1 Purpose.&lt;/strong&gt;...</td>\n",
       "      <td>&lt;div&gt;&lt;p&gt;&lt;strong&gt;&amp;#167; 25</td>\n",
       "      <td>0</td>\n",
       "    </tr>\n",
       "    <tr>\n",
       "      <th>1</th>\n",
       "      <td>64c5120bcce38659fc9e4bb2</td>\n",
       "      <td>&lt;p&gt;The Guide in this part contains administrat...</td>\n",
       "      <td>&lt;p&gt;The Guide in this part</td>\n",
       "      <td>1</td>\n",
       "    </tr>\n",
       "    <tr>\n",
       "      <th>2</th>\n",
       "      <td>64c5120bcce38659fc9e4bb3</td>\n",
       "      <td>&lt;div&gt;&lt;p&gt;&lt;strong&gt;&amp;#167; 259.2 Definitions.&lt;/str...</td>\n",
       "      <td>&lt;div&gt;&lt;p&gt;&lt;strong&gt;&amp;#167; 25</td>\n",
       "      <td>0</td>\n",
       "    </tr>\n",
       "    <tr>\n",
       "      <th>3</th>\n",
       "      <td>64c5120bcce38659fc9e4bb4</td>\n",
       "      <td>&lt;p&gt;For the purposes of this part, the followin...</td>\n",
       "      <td>&lt;p&gt;For the purposes of th</td>\n",
       "      <td>1</td>\n",
       "    </tr>\n",
       "    <tr>\n",
       "      <th>4</th>\n",
       "      <td>64c5120bcce38659fc9e4bb5</td>\n",
       "      <td>&lt;p&gt;&lt;em&gt;Alternative fueled vehicle.&lt;/em&gt; Any ve...</td>\n",
       "      <td>&lt;p&gt;&lt;em&gt;Alternative fueled</td>\n",
       "      <td>2</td>\n",
       "    </tr>\n",
       "  </tbody>\n",
       "</table>\n",
       "</div>"
      ],
      "text/plain": [
       "                         id  \\\n",
       "0  64c5120bcce38659fc9e4bb1   \n",
       "1  64c5120bcce38659fc9e4bb2   \n",
       "2  64c5120bcce38659fc9e4bb3   \n",
       "3  64c5120bcce38659fc9e4bb4   \n",
       "4  64c5120bcce38659fc9e4bb5   \n",
       "\n",
       "                                                html  \\\n",
       "0  <div><p><strong>&#167; 259.1 Purpose.</strong>...   \n",
       "1  <p>The Guide in this part contains administrat...   \n",
       "2  <div><p><strong>&#167; 259.2 Definitions.</str...   \n",
       "3  <p>For the purposes of this part, the followin...   \n",
       "4  <p><em>Alternative fueled vehicle.</em> Any ve...   \n",
       "\n",
       "                  short_html  level  \n",
       "0  <div><p><strong>&#167; 25      0  \n",
       "1  <p>The Guide in this part      1  \n",
       "2  <div><p><strong>&#167; 25      0  \n",
       "3  <p>For the purposes of th      1  \n",
       "4  <p><em>Alternative fueled      2  "
      ]
     },
     "execution_count": 10,
     "metadata": {},
     "output_type": "execute_result"
    }
   ],
   "source": [
    "test_df['level'] = y_pred # Append predictions to the test dataframe\n",
    "test_df.head(5) # Show a small example of the predictions"
   ]
  },
  {
   "cell_type": "markdown",
   "id": "48900e4b-94ca-4a7e-8896-603ccda44929",
   "metadata": {},
   "source": [
    "### 6. Generate HTML file"
   ]
  },
  {
   "cell_type": "code",
   "execution_count": 11,
   "id": "14b0c3c4-2e47-4554-9c93-1c0eaf95598d",
   "metadata": {},
   "outputs": [],
   "source": [
    "# Generate HTML with indentations (indentations are defined as 4 times the level number)\n",
    "def generate_html(node, level=0):\n",
    "    html = f\"<div style='margin-left:{level*4}em'>{node}</div>\"\n",
    "    return html\n",
    "\n",
    "# Generate HTML for the entire test hierarchy\n",
    "test_html = \"\"\n",
    "for i, row in test_df.iterrows():\n",
    "    test_html += generate_html(row['html'],int(row['level']))\n",
    "\n",
    "# Save test.html\n",
    "with open('test.html', 'w') as f:\n",
    "    f.write(test_html)"
   ]
  },
  {
   "cell_type": "markdown",
   "id": "c0c87d47-4b09-40b6-a517-0d81a29d575e",
   "metadata": {},
   "source": [
    "### 7. Conclusion\n",
    "\n",
    "Performance improvement suggestions:\n",
    "* Improve regex pattern\n",
    "* Finetune models"
   ]
  },
  {
   "cell_type": "code",
   "execution_count": null,
   "id": "18dc0a6d-4060-4860-aaad-c504f1623a7e",
   "metadata": {},
   "outputs": [],
   "source": []
  }
 ],
 "metadata": {
  "kernelspec": {
   "display_name": "Python 3 (ipykernel)",
   "language": "python",
   "name": "python3"
  },
  "language_info": {
   "codemirror_mode": {
    "name": "ipython",
    "version": 3
   },
   "file_extension": ".py",
   "mimetype": "text/x-python",
   "name": "python",
   "nbconvert_exporter": "python",
   "pygments_lexer": "ipython3",
   "version": "3.8.13"
  }
 },
 "nbformat": 4,
 "nbformat_minor": 5
}
